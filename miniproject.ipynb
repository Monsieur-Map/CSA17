{
 "cells": [
  {
   "cell_type": "markdown",
   "metadata": {},
   "source": [
    "## Đặt phát biểu vân đề\n",
    "- Liêt kê 3 lĩnh vực hoặc nguồn dữ liệu mà bạn quan tâm \n",
    "- Dẫn link một số trang web chia sẻ dữ liệu\n",
    "- (Câu hỏi tra cứu, câu hỏi tính toán, câu hỏi liên hệ)"
   ]
  },
  {
   "cell_type": "markdown",
   "metadata": {},
   "source": [
    "## Đặt câu hỏi thống kê\n",
    "- Vấn đề bạn đang quan tâm?\n",
    "- Lập 2 câu hỏi thống kê về vấn đề mà bạn quan tâm \n",
    "- Sử dụng AI để hỗ trợ đặt câu hỏi"
   ]
  },
  {
   "cell_type": "markdown",
   "metadata": {},
   "source": [
    "Vấn đề 1: Most watched anime in the world\n",
    "https://www.kaggle.com/datasets/samikshadalvi/100-most-watched-anime-in-the-world\n",
    "Câu hỏi: lượng doanh thu kiếm nhiều nhất/ thấp nhất từ các phim?\n",
    "Câu hỏi 2: liệu các bộ phim có đáng để coi (dựa trên rating >6.5 và số episode đừng quá trên 500 eps)"
   ]
  },
  {
   "cell_type": "markdown",
   "metadata": {},
   "source": [
    "Vấn đề 2: Sleep disorder dataset\n",
    "https://www.kaggle.com/datasets/mdsultanulislamovi/sleep-disorder-diagnosis-dataset\n",
    "Câu hỏi 1: Liệu chất ngủ có ảnh hưởng tới BMI, stress lv hoặc blood pressure?\n",
    "Câu hỏi 2: Những ngành nghề thường phải chịu nhiều áp lực và thường xuyên mất ngủ?\n",
    "\n"
   ]
  },
  {
   "cell_type": "markdown",
   "metadata": {},
   "source": [
    "Vấn đề 3: Lượng học sinh không được đi học ở mỗi quốc gia\n",
    "https://ourworldindata.org/global-education?utm_source\n",
    "Câu hỏi 1: Tình trạng có hoàn thành chương trình cấp 3 ở các quốc gia?\n",
    "Câu hỏi 2: Thống kê của người biết chữ (literacy) và người không biết chữ (illiteracy)"
   ]
  }
 ],
 "metadata": {
  "language_info": {
   "name": "python"
  }
 },
 "nbformat": 4,
 "nbformat_minor": 2
}
