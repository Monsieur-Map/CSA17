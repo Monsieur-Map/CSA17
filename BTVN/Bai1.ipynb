{
 "cells": [
  {
   "cell_type": "markdown",
   "metadata": {},
   "source": [
    "Các bước để giải quyết vấn đề\n",
    "1. Thu thập dữ liệu\n",
    "- Dựa vào điểm kết quả học tập (trung bình), ở các kì kiểm tra\n",
    "- Tỷ lệ học sinh đạt trên 8 trên 9.\n",
    "- THông tin học sinh: giới tính, lớp, giáo viên toán dạy học sinh đó.\n",
    "2. Xử lý dữ liệu, phân tích các dữ liệu:\n",
    "- Có thể phân tích theo kiểu số học sinh đạt điểm cao khi học giáo viên A so với khi học toán với giáo viên B\n",
    "3. Triển khai giải pháp, đặt câu hỏi\n",
    "- Nếu chia số học sinh giỏi ở môn toán vào một lớp riêng thì như thế nào, tương tự với các học sinh giỏi ở các lĩnh vực khác?\n",
    "- Điều động giáo viện toán giỏi nhất (sau khi thống kê) để sắp xếp dạy cho lớp học đang yếu môn toán, có cần phụ đạo hay không\n",
    "- Đặt câu hỏi để tìm thêm học sinh giỏi hoá, lý, tiếng Anh có xu hướng giỏi toán theo hay không?"
   ]
  }
 ],
 "metadata": {
  "language_info": {
   "name": "python"
  }
 },
 "nbformat": 4,
 "nbformat_minor": 2
}
