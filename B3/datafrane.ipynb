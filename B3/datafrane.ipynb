{
 "cells": [
  {
   "cell_type": "code",
   "execution_count": 11,
   "metadata": {},
   "outputs": [
    {
     "data": {
      "text/plain": [
       "{'tên_sản_phẩm': ['Figure Lingsha HSR',\n",
       "  'Mô hình Miku Nakano',\n",
       "  'Áo hoodie Attack on Titan',\n",
       "  'Poster Demon Slayer',\n",
       "  'Móc khóa Ghibli Totoro'],\n",
       " 'giá_niêm_yết': [1200000, 2500000, 450000, 150000, 80000],\n",
       " 'category': ['Figure', 'Figure', 'Clothing', 'Poster', 'Phụ kiện'],\n",
       " 'ngày_tạo': ['2025-01-12',\n",
       "  '2025-02-08',\n",
       "  '2025-02-25',\n",
       "  '2025-03-15',\n",
       "  '2025-04-01'],\n",
       " 'quốc_gia': ['Trung Quốc', 'Nhật Bản', 'Việt Nam', 'Mỹ', 'Nhật Bản']}"
      ]
     },
     "execution_count": 11,
     "metadata": {},
     "output_type": "execute_result"
    }
   ],
   "source": [
    "#data\n",
    "products_anime = {\n",
    "    \"tên_sản_phẩm\": [\n",
    "        \"Figure Lingsha HSR\",\n",
    "        \"Mô hình Miku Nakano\",\n",
    "        \"Áo hoodie Attack on Titan\",\n",
    "        \"Poster Demon Slayer\",\n",
    "        \"Móc khóa Ghibli Totoro\"\n",
    "    ],\n",
    "    \"giá_niêm_yết\": [\n",
    "        1200000,\n",
    "        2500000,\n",
    "        450000,\n",
    "        150000,\n",
    "        80000\n",
    "    ],\n",
    "    \"category\": [\n",
    "        \"Figure\",\n",
    "        \"Figure\",\n",
    "        \"Clothing\",\n",
    "        \"Poster\",\n",
    "        \"Phụ kiện\"\n",
    "    ],\n",
    "    \"ngày_tạo\": [\n",
    "        \"2025-01-12\",\n",
    "        \"2025-02-08\",\n",
    "        \"2025-02-25\",\n",
    "        \"2025-03-15\",\n",
    "        \"2025-04-01\"\n",
    "    ],\n",
    "    \"quốc_gia\": [\n",
    "        \"Trung Quốc\",\n",
    "        \"Nhật Bản\",\n",
    "        \"Việt Nam\",\n",
    "        \"Mỹ\",\n",
    "        \"Nhật Bản\"\n",
    "    ]\n",
    "}\n",
    "\n",
    "products_anime\n"
   ]
  },
  {
   "cell_type": "markdown",
   "metadata": {},
   "source": [
    "- df.dtypes: liệt kê dữ liệu của từng cột\n",
    "- df.shape: in ra số hàng và số cột theo format\n",
    "- df.info"
   ]
  },
  {
   "cell_type": "markdown",
   "metadata": {},
   "source": [
    "## Tạo csv với pandas\n",
    "- Chuyển dữ liệu dict -> dataframe\n",
    "- Dùng hàm to_csv()"
   ]
  },
  {
   "cell_type": "code",
   "execution_count": 23,
   "metadata": {},
   "outputs": [],
   "source": [
    "import pandas as pd \n",
    "\n",
    "df = pd.DataFrame(products_anime)\n",
    "# Nếu đã có file -> tự động ghi đè nội dung file\n",
    "df.to_csv('products_anime.csv', index=False) "
   ]
  },
  {
   "cell_type": "markdown",
   "metadata": {},
   "source": [
    "## Đọc csv với pandas\n",
    "- Khi trả về -> dataframe\n",
    "- Dùng các hàm hỗ trợ để in thông tin của bảng dữ liệu\n",
    " - info\n",
    " - describe\n",
    " - shape + dtypes (biến)\n",
    " - head() + tail() (lấy phần tử đầu, phần tử cuối)\n"
   ]
  },
  {
   "cell_type": "code",
   "execution_count": 24,
   "metadata": {},
   "outputs": [
    {
     "name": "stdout",
     "output_type": "stream",
     "text": [
      "                tên_sản_phẩm  giá_niêm_yết  category    ngày_tạo    quốc_gia\n",
      "0         Figure Lingsha HSR       1200000    Figure  2025-01-12  Trung Quốc\n",
      "1        Mô hình Miku Nakano       2500000    Figure  2025-02-08    Nhật Bản\n",
      "2  Áo hoodie Attack on Titan        450000  Clothing  2025-02-25    Việt Nam\n",
      "3        Poster Demon Slayer        150000    Poster  2025-03-15          Mỹ\n",
      "4     Móc khóa Ghibli Totoro         80000  Phụ kiện  2025-04-01    Nhật Bản\n",
      "Đọc file csv thành công\n"
     ]
    }
   ],
   "source": [
    "# Hàm read_csv báo lỗi khi không có file\n",
    "try:\n",
    "    df_from_csv = pd.read_csv(\"products_anime.csv\")\n",
    "    print(df_from_csv)\n",
    "except Exception as e:\n",
    "    print(\"Lỗi\", e)\n",
    "    \n",
    "print(\"Đọc file csv thành công\")"
   ]
  },
  {
   "cell_type": "code",
   "execution_count": null,
   "metadata": {},
   "outputs": [],
   "source": []
  }
 ],
 "metadata": {
  "kernelspec": {
   "display_name": "Python 3",
   "language": "python",
   "name": "python3"
  },
  "language_info": {
   "codemirror_mode": {
    "name": "ipython",
    "version": 3
   },
   "file_extension": ".py",
   "mimetype": "text/x-python",
   "name": "python",
   "nbconvert_exporter": "python",
   "pygments_lexer": "ipython3",
   "version": "3.11.9"
  }
 },
 "nbformat": 4,
 "nbformat_minor": 2
}
