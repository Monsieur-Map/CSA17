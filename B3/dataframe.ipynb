{
 "cells": [
  {
   "cell_type": "code",
   "execution_count": 27,
   "metadata": {},
   "outputs": [
    {
     "data": {
      "text/plain": [
       "{'tên': ['Figure Lingsha HSR',\n",
       "  'Mô hình Miku Nakano',\n",
       "  'Áo hoodie Attack on Titan',\n",
       "  'Poster Demon Slayer',\n",
       "  'Móc khóa Ghibli Totoro'],\n",
       " 'giá_niêm_yết': [1200000, 2500000, 450000, 150000, 80000],\n",
       " 'category': ['Figure', 'Figure', 'Clothing', 'Poster', 'Phụ kiện'],\n",
       " 'ngày_tạo': ['2025-01-12',\n",
       "  '2025-02-08',\n",
       "  '2025-02-25',\n",
       "  '2025-03-15',\n",
       "  '2025-04-01'],\n",
       " 'quốc_gia': ['Trung Quốc', 'Nhật Bản', 'Việt Nam', 'Mỹ', 'Nhật Bản']}"
      ]
     },
     "execution_count": 27,
     "metadata": {},
     "output_type": "execute_result"
    }
   ],
   "source": [
    "#data\n",
    "products_anime = {\n",
    "    \"tên\": [\n",
    "        \"Figure Lingsha HSR\",\n",
    "        \"Mô hình Miku Nakano\",\n",
    "        \"Áo hoodie Attack on Titan\",\n",
    "        \"Poster Demon Slayer\",\n",
    "        \"Móc khóa Ghibli Totoro\"\n",
    "    ],\n",
    "    \"giá_niêm_yết\": [\n",
    "        1200000,\n",
    "        2500000,\n",
    "        450000,\n",
    "        150000,\n",
    "        80000\n",
    "    ],\n",
    "    \"category\": [\n",
    "        \"Figure\",\n",
    "        \"Figure\",\n",
    "        \"Clothing\",\n",
    "        \"Poster\",\n",
    "        \"Phụ kiện\"\n",
    "    ],\n",
    "    \"ngày_tạo\": [\n",
    "        \"2025-01-12\",\n",
    "        \"2025-02-08\",\n",
    "        \"2025-02-25\",\n",
    "        \"2025-03-15\",\n",
    "        \"2025-04-01\"\n",
    "    ],\n",
    "    \"quốc_gia\": [\n",
    "        \"Trung Quốc\",\n",
    "        \"Nhật Bản\",\n",
    "        \"Việt Nam\",\n",
    "        \"Mỹ\",\n",
    "        \"Nhật Bản\"\n",
    "    ]\n",
    "}\n",
    "\n",
    "products_anime\n"
   ]
  },
  {
   "cell_type": "markdown",
   "metadata": {},
   "source": [
    "- df.dtypes: liệt kê dữ liệu của từng cột\n",
    "- df.shape: in ra số hàng và số cột theo format\n",
    "- df.info"
   ]
  },
  {
   "cell_type": "markdown",
   "metadata": {},
   "source": [
    "## Tạo csv với pandas\n",
    "- Chuyển dữ liệu dict -> dataframe\n",
    "- Dùng hàm to_csv()"
   ]
  },
  {
   "cell_type": "code",
   "execution_count": 28,
   "metadata": {},
   "outputs": [],
   "source": [
    "import pandas as pd \n",
    "\n",
    "df = pd.DataFrame(products_anime)\n",
    "# Nếu đã có file -> tự động ghi đè nội dung file\n",
    "df.to_csv('products_anime.csv', index=False) "
   ]
  },
  {
   "cell_type": "markdown",
   "metadata": {},
   "source": [
    "## Đọc csv với pandas\n",
    "- Khi trả về -> dataframe\n",
    "- Dùng các hàm hỗ trợ để in thông tin của bảng dữ liệu\n",
    " - info\n",
    " - describe\n",
    " - shape + dtypes (biến)\n",
    " - head() + tail() (lấy phần tử đầu, phần tử cuối)\n"
   ]
  },
  {
   "cell_type": "code",
   "execution_count": 46,
   "metadata": {},
   "outputs": [
    {
     "name": "stdout",
     "output_type": "stream",
     "text": [
      "                         tên  giá_niêm_yết  category    ngày_tạo    quốc_gia\n",
      "0         Figure Lingsha HSR       1200000    Figure  2025-01-12  Trung Quốc\n",
      "1        Mô hình Miku Nakano       2500000    Figure  2025-02-08    Nhật Bản\n",
      "2  Áo hoodie Attack on Titan        450000  Clothing  2025-02-25    Việt Nam\n",
      "3        Poster Demon Slayer        150000    Poster  2025-03-15          Mỹ\n",
      "4     Móc khóa Ghibli Totoro         80000  Phụ kiện  2025-04-01    Nhật Bản\n",
      "Info: --------------------------------------------------------\n",
      "<class 'pandas.core.frame.DataFrame'>\n",
      "RangeIndex: 5 entries, 0 to 4\n",
      "Data columns (total 5 columns):\n",
      " #   Column        Non-Null Count  Dtype \n",
      "---  ------        --------------  ----- \n",
      " 0   tên           5 non-null      object\n",
      " 1   giá_niêm_yết  5 non-null      int64 \n",
      " 2   category      5 non-null      object\n",
      " 3   ngày_tạo      5 non-null      object\n",
      " 4   quốc_gia      5 non-null      object\n",
      "dtypes: int64(1), object(4)\n",
      "memory usage: 332.0+ bytes\n",
      "None\n",
      "Describe: ----------------------------------------------------\n",
      "       giá_niêm_yết\n",
      "count  5.000000e+00\n",
      "mean   8.760000e+05\n",
      "std    1.010510e+06\n",
      "min    8.000000e+04\n",
      "25%    1.500000e+05\n",
      "50%    4.500000e+05\n",
      "75%    1.200000e+06\n",
      "max    2.500000e+06\n",
      "Shape: -------------------------------------------------------\n",
      "(5, 5)\n",
      "dtypes: -------------------------------------------------------\n",
      "tên             object\n",
      "giá_niêm_yết     int64\n",
      "category        object\n",
      "ngày_tạo        object\n",
      "quốc_gia        object\n",
      "dtype: object\n",
      "Head: --------------------------------------------------------\n",
      "                  tên  giá_niêm_yết category    ngày_tạo    quốc_gia\n",
      "0  Figure Lingsha HSR       1200000   Figure  2025-01-12  Trung Quốc\n",
      "Tail: --------------------------------------------------------\n",
      "                      tên  giá_niêm_yết  category    ngày_tạo  quốc_gia\n",
      "3     Poster Demon Slayer        150000    Poster  2025-03-15        Mỹ\n",
      "4  Móc khóa Ghibli Totoro         80000  Phụ kiện  2025-04-01  Nhật Bản\n",
      "Đọc file csv thành công\n"
     ]
    }
   ],
   "source": [
    "# Hàm read_csv báo lỗi khi không có file\n",
    "try:\n",
    "    df_from_csv = pd.read_csv(\"products_anime.csv\")\n",
    "    print(df_from_csv)\n",
    "    print(\"Info: --------------------------------------------------------\")\n",
    "    print(df_from_csv.info())\n",
    "    print(\"Describe: ----------------------------------------------------\")\n",
    "    print(df_from_csv.describe())\n",
    "    print(\"Shape: -------------------------------------------------------\")\n",
    "    print(df_from_csv.shape) #Không phải dạng tuple (nên đừng có shape())\n",
    "    print(\"dtypes: -------------------------------------------------------\")\n",
    "    print(df_from_csv.dtypes) #Không phải dạng tuple nốt\n",
    "    print(\"Head: --------------------------------------------------------\")\n",
    "    print(df_from_csv.head(1))\n",
    "    print(\"Tail: --------------------------------------------------------\")\n",
    "    print(df_from_csv.tail(2))\n",
    "    \n",
    "except Exception as e:\n",
    "    print(\"Lỗi\", e)\n",
    "    \n",
    "print(\"Đọc file csv thành công\")"
   ]
  },
  {
   "cell_type": "markdown",
   "metadata": {},
   "source": [
    "### Lọc dữ liệu"
   ]
  },
  {
   "cell_type": "markdown",
   "metadata": {},
   "source": [
    "## Lọc cột - series\n",
    "`<ten_datafrane>[<tên cột>]`"
   ]
  },
  {
   "cell_type": "code",
   "execution_count": 43,
   "metadata": {},
   "outputs": [
    {
     "data": {
      "text/html": [
       "<div>\n",
       "<style scoped>\n",
       "    .dataframe tbody tr th:only-of-type {\n",
       "        vertical-align: middle;\n",
       "    }\n",
       "\n",
       "    .dataframe tbody tr th {\n",
       "        vertical-align: top;\n",
       "    }\n",
       "\n",
       "    .dataframe thead th {\n",
       "        text-align: right;\n",
       "    }\n",
       "</style>\n",
       "<table border=\"1\" class=\"dataframe\">\n",
       "  <thead>\n",
       "    <tr style=\"text-align: right;\">\n",
       "      <th></th>\n",
       "      <th>giá_niêm_yết</th>\n",
       "      <th>category</th>\n",
       "    </tr>\n",
       "  </thead>\n",
       "  <tbody>\n",
       "    <tr>\n",
       "      <th>0</th>\n",
       "      <td>1200000</td>\n",
       "      <td>Figure</td>\n",
       "    </tr>\n",
       "    <tr>\n",
       "      <th>1</th>\n",
       "      <td>2500000</td>\n",
       "      <td>Figure</td>\n",
       "    </tr>\n",
       "    <tr>\n",
       "      <th>2</th>\n",
       "      <td>450000</td>\n",
       "      <td>Clothing</td>\n",
       "    </tr>\n",
       "  </tbody>\n",
       "</table>\n",
       "</div>"
      ],
      "text/plain": [
       "   giá_niêm_yết  category\n",
       "0       1200000    Figure\n",
       "1       2500000    Figure\n",
       "2        450000  Clothing"
      ]
     },
     "execution_count": 43,
     "metadata": {},
     "output_type": "execute_result"
    }
   ],
   "source": [
    "new_data = df_from_csv[[\"giá_niêm_yết\",\"category\"]]\n",
    "new_data[df_from_csv[\"giá_niêm_yết\"] > 300000]"
   ]
  },
  {
   "cell_type": "markdown",
   "metadata": {},
   "source": [
    "## Lọc hàng\n",
    "- `slice [start: stop: step]`\n",
    "- Bỏ start: 0\n",
    "- Bỏ stop: length - 1 (số cuối cùng)\n",
    "- Bỏ step: 1"
   ]
  },
  {
   "cell_type": "code",
   "execution_count": 44,
   "metadata": {},
   "outputs": [
    {
     "data": {
      "text/html": [
       "<div>\n",
       "<style scoped>\n",
       "    .dataframe tbody tr th:only-of-type {\n",
       "        vertical-align: middle;\n",
       "    }\n",
       "\n",
       "    .dataframe tbody tr th {\n",
       "        vertical-align: top;\n",
       "    }\n",
       "\n",
       "    .dataframe thead th {\n",
       "        text-align: right;\n",
       "    }\n",
       "</style>\n",
       "<table border=\"1\" class=\"dataframe\">\n",
       "  <thead>\n",
       "    <tr style=\"text-align: right;\">\n",
       "      <th></th>\n",
       "      <th>tên_sản_phẩm</th>\n",
       "      <th>giá_niêm_yết</th>\n",
       "      <th>category</th>\n",
       "      <th>ngày_tạo</th>\n",
       "      <th>quốc_gia</th>\n",
       "    </tr>\n",
       "  </thead>\n",
       "  <tbody>\n",
       "    <tr>\n",
       "      <th>0</th>\n",
       "      <td>Figure Lingsha HSR</td>\n",
       "      <td>1200000</td>\n",
       "      <td>Figure</td>\n",
       "      <td>2025-01-12</td>\n",
       "      <td>Trung Quốc</td>\n",
       "    </tr>\n",
       "    <tr>\n",
       "      <th>1</th>\n",
       "      <td>Mô hình Miku Nakano</td>\n",
       "      <td>2500000</td>\n",
       "      <td>Figure</td>\n",
       "      <td>2025-02-08</td>\n",
       "      <td>Nhật Bản</td>\n",
       "    </tr>\n",
       "  </tbody>\n",
       "</table>\n",
       "</div>"
      ],
      "text/plain": [
       "          tên_sản_phẩm  giá_niêm_yết category    ngày_tạo    quốc_gia\n",
       "0   Figure Lingsha HSR       1200000   Figure  2025-01-12  Trung Quốc\n",
       "1  Mô hình Miku Nakano       2500000   Figure  2025-02-08    Nhật Bản"
      ]
     },
     "execution_count": 44,
     "metadata": {},
     "output_type": "execute_result"
    }
   ],
   "source": [
    "# Lọc 2 hàng đầu\n",
    "df_from_csv[:2]"
   ]
  },
  {
   "cell_type": "code",
   "execution_count": 53,
   "metadata": {},
   "outputs": [
    {
     "data": {
      "text/html": [
       "<div>\n",
       "<style scoped>\n",
       "    .dataframe tbody tr th:only-of-type {\n",
       "        vertical-align: middle;\n",
       "    }\n",
       "\n",
       "    .dataframe tbody tr th {\n",
       "        vertical-align: top;\n",
       "    }\n",
       "\n",
       "    .dataframe thead th {\n",
       "        text-align: right;\n",
       "    }\n",
       "</style>\n",
       "<table border=\"1\" class=\"dataframe\">\n",
       "  <thead>\n",
       "    <tr style=\"text-align: right;\">\n",
       "      <th></th>\n",
       "      <th>tên_sản_phẩm</th>\n",
       "      <th>giá_niêm_yết</th>\n",
       "      <th>category</th>\n",
       "      <th>ngày_tạo</th>\n",
       "      <th>quốc_gia</th>\n",
       "    </tr>\n",
       "  </thead>\n",
       "  <tbody>\n",
       "    <tr>\n",
       "      <th>1</th>\n",
       "      <td>Mô hình Miku Nakano</td>\n",
       "      <td>2500000</td>\n",
       "      <td>Figure</td>\n",
       "      <td>2025-02-08</td>\n",
       "      <td>Nhật Bản</td>\n",
       "    </tr>\n",
       "    <tr>\n",
       "      <th>3</th>\n",
       "      <td>Poster Demon Slayer</td>\n",
       "      <td>150000</td>\n",
       "      <td>Poster</td>\n",
       "      <td>2025-03-15</td>\n",
       "      <td>Mỹ</td>\n",
       "    </tr>\n",
       "  </tbody>\n",
       "</table>\n",
       "</div>"
      ],
      "text/plain": [
       "          tên_sản_phẩm  giá_niêm_yết category    ngày_tạo  quốc_gia\n",
       "1  Mô hình Miku Nakano       2500000   Figure  2025-02-08  Nhật Bản\n",
       "3  Poster Demon Slayer        150000   Poster  2025-03-15        Mỹ"
      ]
     },
     "execution_count": 53,
     "metadata": {},
     "output_type": "execute_result"
    }
   ],
   "source": [
    "df_from_csv[1::2]"
   ]
  },
  {
   "cell_type": "markdown",
   "metadata": {},
   "source": [
    "### Thay đổi index"
   ]
  },
  {
   "cell_type": "code",
   "execution_count": 47,
   "metadata": {},
   "outputs": [
    {
     "data": {
      "text/html": [
       "<div>\n",
       "<style scoped>\n",
       "    .dataframe tbody tr th:only-of-type {\n",
       "        vertical-align: middle;\n",
       "    }\n",
       "\n",
       "    .dataframe tbody tr th {\n",
       "        vertical-align: top;\n",
       "    }\n",
       "\n",
       "    .dataframe thead th {\n",
       "        text-align: right;\n",
       "    }\n",
       "</style>\n",
       "<table border=\"1\" class=\"dataframe\">\n",
       "  <thead>\n",
       "    <tr style=\"text-align: right;\">\n",
       "      <th></th>\n",
       "      <th>giá_niêm_yết</th>\n",
       "      <th>category</th>\n",
       "      <th>ngày_tạo</th>\n",
       "      <th>quốc_gia</th>\n",
       "    </tr>\n",
       "    <tr>\n",
       "      <th>tên</th>\n",
       "      <th></th>\n",
       "      <th></th>\n",
       "      <th></th>\n",
       "      <th></th>\n",
       "    </tr>\n",
       "  </thead>\n",
       "  <tbody>\n",
       "    <tr>\n",
       "      <th>Figure Lingsha HSR</th>\n",
       "      <td>1200000</td>\n",
       "      <td>Figure</td>\n",
       "      <td>2025-01-12</td>\n",
       "      <td>Trung Quốc</td>\n",
       "    </tr>\n",
       "    <tr>\n",
       "      <th>Mô hình Miku Nakano</th>\n",
       "      <td>2500000</td>\n",
       "      <td>Figure</td>\n",
       "      <td>2025-02-08</td>\n",
       "      <td>Nhật Bản</td>\n",
       "    </tr>\n",
       "    <tr>\n",
       "      <th>Áo hoodie Attack on Titan</th>\n",
       "      <td>450000</td>\n",
       "      <td>Clothing</td>\n",
       "      <td>2025-02-25</td>\n",
       "      <td>Việt Nam</td>\n",
       "    </tr>\n",
       "    <tr>\n",
       "      <th>Poster Demon Slayer</th>\n",
       "      <td>150000</td>\n",
       "      <td>Poster</td>\n",
       "      <td>2025-03-15</td>\n",
       "      <td>Mỹ</td>\n",
       "    </tr>\n",
       "    <tr>\n",
       "      <th>Móc khóa Ghibli Totoro</th>\n",
       "      <td>80000</td>\n",
       "      <td>Phụ kiện</td>\n",
       "      <td>2025-04-01</td>\n",
       "      <td>Nhật Bản</td>\n",
       "    </tr>\n",
       "  </tbody>\n",
       "</table>\n",
       "</div>"
      ],
      "text/plain": [
       "                           giá_niêm_yết  category    ngày_tạo    quốc_gia\n",
       "tên                                                                      \n",
       "Figure Lingsha HSR              1200000    Figure  2025-01-12  Trung Quốc\n",
       "Mô hình Miku Nakano             2500000    Figure  2025-02-08    Nhật Bản\n",
       "Áo hoodie Attack on Titan        450000  Clothing  2025-02-25    Việt Nam\n",
       "Poster Demon Slayer              150000    Poster  2025-03-15          Mỹ\n",
       "Móc khóa Ghibli Totoro            80000  Phụ kiện  2025-04-01    Nhật Bản"
      ]
     },
     "execution_count": 47,
     "metadata": {},
     "output_type": "execute_result"
    }
   ],
   "source": [
    "df_from_csv.set_index(\"tên\", inplace=True)\n",
    "df_from_csv"
   ]
  },
  {
   "cell_type": "code",
   "execution_count": 51,
   "metadata": {},
   "outputs": [
    {
     "data": {
      "text/html": [
       "<div>\n",
       "<style scoped>\n",
       "    .dataframe tbody tr th:only-of-type {\n",
       "        vertical-align: middle;\n",
       "    }\n",
       "\n",
       "    .dataframe tbody tr th {\n",
       "        vertical-align: top;\n",
       "    }\n",
       "\n",
       "    .dataframe thead th {\n",
       "        text-align: right;\n",
       "    }\n",
       "</style>\n",
       "<table border=\"1\" class=\"dataframe\">\n",
       "  <thead>\n",
       "    <tr style=\"text-align: right;\">\n",
       "      <th></th>\n",
       "      <th>tên</th>\n",
       "      <th>giá_niêm_yết</th>\n",
       "      <th>category</th>\n",
       "      <th>ngày_tạo</th>\n",
       "      <th>quốc_gia</th>\n",
       "    </tr>\n",
       "  </thead>\n",
       "  <tbody>\n",
       "    <tr>\n",
       "      <th>0</th>\n",
       "      <td>Figure Lingsha HSR</td>\n",
       "      <td>1200000</td>\n",
       "      <td>Figure</td>\n",
       "      <td>2025-01-12</td>\n",
       "      <td>Trung Quốc</td>\n",
       "    </tr>\n",
       "    <tr>\n",
       "      <th>1</th>\n",
       "      <td>Mô hình Miku Nakano</td>\n",
       "      <td>2500000</td>\n",
       "      <td>Figure</td>\n",
       "      <td>2025-02-08</td>\n",
       "      <td>Nhật Bản</td>\n",
       "    </tr>\n",
       "    <tr>\n",
       "      <th>2</th>\n",
       "      <td>Áo hoodie Attack on Titan</td>\n",
       "      <td>450000</td>\n",
       "      <td>Clothing</td>\n",
       "      <td>2025-02-25</td>\n",
       "      <td>Việt Nam</td>\n",
       "    </tr>\n",
       "    <tr>\n",
       "      <th>3</th>\n",
       "      <td>Poster Demon Slayer</td>\n",
       "      <td>150000</td>\n",
       "      <td>Poster</td>\n",
       "      <td>2025-03-15</td>\n",
       "      <td>Mỹ</td>\n",
       "    </tr>\n",
       "    <tr>\n",
       "      <th>4</th>\n",
       "      <td>Móc khóa Ghibli Totoro</td>\n",
       "      <td>80000</td>\n",
       "      <td>Phụ kiện</td>\n",
       "      <td>2025-04-01</td>\n",
       "      <td>Nhật Bản</td>\n",
       "    </tr>\n",
       "  </tbody>\n",
       "</table>\n",
       "</div>"
      ],
      "text/plain": [
       "                         tên  giá_niêm_yết  category    ngày_tạo    quốc_gia\n",
       "0         Figure Lingsha HSR       1200000    Figure  2025-01-12  Trung Quốc\n",
       "1        Mô hình Miku Nakano       2500000    Figure  2025-02-08    Nhật Bản\n",
       "2  Áo hoodie Attack on Titan        450000  Clothing  2025-02-25    Việt Nam\n",
       "3        Poster Demon Slayer        150000    Poster  2025-03-15          Mỹ\n",
       "4     Móc khóa Ghibli Totoro         80000  Phụ kiện  2025-04-01    Nhật Bản"
      ]
     },
     "execution_count": 51,
     "metadata": {},
     "output_type": "execute_result"
    }
   ],
   "source": [
    "df_from_csv.reset_index(\"tên\", inplace=True)\n",
    "df_from_csv"
   ]
  },
  {
   "cell_type": "code",
   "execution_count": 32,
   "metadata": {},
   "outputs": [
    {
     "data": {
      "text/html": [
       "<div>\n",
       "<style scoped>\n",
       "    .dataframe tbody tr th:only-of-type {\n",
       "        vertical-align: middle;\n",
       "    }\n",
       "\n",
       "    .dataframe tbody tr th {\n",
       "        vertical-align: top;\n",
       "    }\n",
       "\n",
       "    .dataframe thead th {\n",
       "        text-align: right;\n",
       "    }\n",
       "</style>\n",
       "<table border=\"1\" class=\"dataframe\">\n",
       "  <thead>\n",
       "    <tr style=\"text-align: right;\">\n",
       "      <th></th>\n",
       "      <th>tên</th>\n",
       "      <th>giá_niêm_yết</th>\n",
       "      <th>category</th>\n",
       "      <th>ngày_tạo</th>\n",
       "      <th>quốc_gia</th>\n",
       "    </tr>\n",
       "  </thead>\n",
       "  <tbody>\n",
       "    <tr>\n",
       "      <th>3</th>\n",
       "      <td>Poster Demon Slayer</td>\n",
       "      <td>150000</td>\n",
       "      <td>Poster</td>\n",
       "      <td>2025-03-15</td>\n",
       "      <td>Mỹ</td>\n",
       "    </tr>\n",
       "    <tr>\n",
       "      <th>4</th>\n",
       "      <td>Móc khóa Ghibli Totoro</td>\n",
       "      <td>80000</td>\n",
       "      <td>Phụ kiện</td>\n",
       "      <td>2025-04-01</td>\n",
       "      <td>Nhật Bản</td>\n",
       "    </tr>\n",
       "  </tbody>\n",
       "</table>\n",
       "</div>"
      ],
      "text/plain": [
       "                      tên  giá_niêm_yết  category    ngày_tạo  quốc_gia\n",
       "3     Poster Demon Slayer        150000    Poster  2025-03-15        Mỹ\n",
       "4  Móc khóa Ghibli Totoro         80000  Phụ kiện  2025-04-01  Nhật Bản"
      ]
     },
     "execution_count": 32,
     "metadata": {},
     "output_type": "execute_result"
    }
   ],
   "source": [
    "# add dữ liệu từ csv\n",
    "import pandas as pd\n",
    "df = pd.read_csv(\"products_anime.csv\")\n",
    "df.tail(2)\n"
   ]
  },
  {
   "cell_type": "markdown",
   "metadata": {},
   "source": [
    "### Lọc bằng chỉ **số** (iloc)"
   ]
  },
  {
   "cell_type": "markdown",
   "metadata": {},
   "source": [
    "> `iloc` lọc dữ liệu dựa trên vị trí chỉ số trong DataFrame"
   ]
  },
  {
   "cell_type": "code",
   "execution_count": 35,
   "metadata": {},
   "outputs": [
    {
     "data": {
      "text/html": [
       "<div>\n",
       "<style scoped>\n",
       "    .dataframe tbody tr th:only-of-type {\n",
       "        vertical-align: middle;\n",
       "    }\n",
       "\n",
       "    .dataframe tbody tr th {\n",
       "        vertical-align: top;\n",
       "    }\n",
       "\n",
       "    .dataframe thead th {\n",
       "        text-align: right;\n",
       "    }\n",
       "</style>\n",
       "<table border=\"1\" class=\"dataframe\">\n",
       "  <thead>\n",
       "    <tr style=\"text-align: right;\">\n",
       "      <th></th>\n",
       "      <th>tên</th>\n",
       "      <th>giá_niêm_yết</th>\n",
       "      <th>category</th>\n",
       "      <th>ngày_tạo</th>\n",
       "      <th>quốc_gia</th>\n",
       "    </tr>\n",
       "  </thead>\n",
       "  <tbody>\n",
       "    <tr>\n",
       "      <th>0</th>\n",
       "      <td>Figure Lingsha HSR</td>\n",
       "      <td>1200000</td>\n",
       "      <td>Figure</td>\n",
       "      <td>2025-01-12</td>\n",
       "      <td>Trung Quốc</td>\n",
       "    </tr>\n",
       "    <tr>\n",
       "      <th>1</th>\n",
       "      <td>Mô hình Miku Nakano</td>\n",
       "      <td>2500000</td>\n",
       "      <td>Figure</td>\n",
       "      <td>2025-02-08</td>\n",
       "      <td>Nhật Bản</td>\n",
       "    </tr>\n",
       "    <tr>\n",
       "      <th>2</th>\n",
       "      <td>Áo hoodie Attack on Titan</td>\n",
       "      <td>450000</td>\n",
       "      <td>Clothing</td>\n",
       "      <td>2025-02-25</td>\n",
       "      <td>Việt Nam</td>\n",
       "    </tr>\n",
       "  </tbody>\n",
       "</table>\n",
       "</div>"
      ],
      "text/plain": [
       "                         tên  giá_niêm_yết  category    ngày_tạo    quốc_gia\n",
       "0         Figure Lingsha HSR       1200000    Figure  2025-01-12  Trung Quốc\n",
       "1        Mô hình Miku Nakano       2500000    Figure  2025-02-08    Nhật Bản\n",
       "2  Áo hoodie Attack on Titan        450000  Clothing  2025-02-25    Việt Nam"
      ]
     },
     "execution_count": 35,
     "metadata": {},
     "output_type": "execute_result"
    }
   ],
   "source": [
    "df.iloc[:3] #Lấy ba dòng đầu tiên"
   ]
  },
  {
   "cell_type": "code",
   "execution_count": 39,
   "metadata": {},
   "outputs": [
    {
     "data": {
      "text/html": [
       "<div>\n",
       "<style scoped>\n",
       "    .dataframe tbody tr th:only-of-type {\n",
       "        vertical-align: middle;\n",
       "    }\n",
       "\n",
       "    .dataframe tbody tr th {\n",
       "        vertical-align: top;\n",
       "    }\n",
       "\n",
       "    .dataframe thead th {\n",
       "        text-align: right;\n",
       "    }\n",
       "</style>\n",
       "<table border=\"1\" class=\"dataframe\">\n",
       "  <thead>\n",
       "    <tr style=\"text-align: right;\">\n",
       "      <th></th>\n",
       "      <th>category</th>\n",
       "      <th>ngày_tạo</th>\n",
       "      <th>quốc_gia</th>\n",
       "    </tr>\n",
       "  </thead>\n",
       "  <tbody>\n",
       "    <tr>\n",
       "      <th>2</th>\n",
       "      <td>Clothing</td>\n",
       "      <td>2025-02-25</td>\n",
       "      <td>Việt Nam</td>\n",
       "    </tr>\n",
       "    <tr>\n",
       "      <th>4</th>\n",
       "      <td>Phụ kiện</td>\n",
       "      <td>2025-04-01</td>\n",
       "      <td>Nhật Bản</td>\n",
       "    </tr>\n",
       "  </tbody>\n",
       "</table>\n",
       "</div>"
      ],
      "text/plain": [
       "   category    ngày_tạo  quốc_gia\n",
       "2  Clothing  2025-02-25  Việt Nam\n",
       "4  Phụ kiện  2025-04-01  Nhật Bản"
      ]
     },
     "execution_count": 39,
     "metadata": {},
     "output_type": "execute_result"
    }
   ],
   "source": [
    "df.iloc[2::2,2:] #Lấy dòng 2 -> 5 (bước nhảy 2), cột 2 -> cuối (bỏ đi cột số 0 là tên và cột số 1 là giá_niêm_yết)"
   ]
  },
  {
   "cell_type": "markdown",
   "metadata": {},
   "source": [
    "### Lọc bằng nhãn (loc) -> lọc dưới dạng chữ"
   ]
  },
  {
   "cell_type": "markdown",
   "metadata": {},
   "source": [
    "> `loc` lọc dữ liệu dựa trên nhãn của chỉ số trong DataFrame"
   ]
  },
  {
   "cell_type": "code",
   "execution_count": 44,
   "metadata": {},
   "outputs": [
    {
     "data": {
      "text/html": [
       "<div>\n",
       "<style scoped>\n",
       "    .dataframe tbody tr th:only-of-type {\n",
       "        vertical-align: middle;\n",
       "    }\n",
       "\n",
       "    .dataframe tbody tr th {\n",
       "        vertical-align: top;\n",
       "    }\n",
       "\n",
       "    .dataframe thead th {\n",
       "        text-align: right;\n",
       "    }\n",
       "</style>\n",
       "<table border=\"1\" class=\"dataframe\">\n",
       "  <thead>\n",
       "    <tr style=\"text-align: right;\">\n",
       "      <th></th>\n",
       "      <th>giá_niêm_yết</th>\n",
       "      <th>category</th>\n",
       "    </tr>\n",
       "  </thead>\n",
       "  <tbody>\n",
       "    <tr>\n",
       "      <th>3</th>\n",
       "      <td>150000</td>\n",
       "      <td>Poster</td>\n",
       "    </tr>\n",
       "    <tr>\n",
       "      <th>4</th>\n",
       "      <td>80000</td>\n",
       "      <td>Phụ kiện</td>\n",
       "    </tr>\n",
       "  </tbody>\n",
       "</table>\n",
       "</div>"
      ],
      "text/plain": [
       "   giá_niêm_yết  category\n",
       "3        150000    Poster\n",
       "4         80000  Phụ kiện"
      ]
     },
     "execution_count": 44,
     "metadata": {},
     "output_type": "execute_result"
    }
   ],
   "source": [
    "df.loc[3: ,[\"giá_niêm_yết\", \"category\"]]\n",
    "# Lấy từ dòng 3 tới cuối, cột từ giá bạn + category"
   ]
  },
  {
   "cell_type": "code",
   "execution_count": 45,
   "metadata": {},
   "outputs": [
    {
     "data": {
      "text/html": [
       "<div>\n",
       "<style scoped>\n",
       "    .dataframe tbody tr th:only-of-type {\n",
       "        vertical-align: middle;\n",
       "    }\n",
       "\n",
       "    .dataframe tbody tr th {\n",
       "        vertical-align: top;\n",
       "    }\n",
       "\n",
       "    .dataframe thead th {\n",
       "        text-align: right;\n",
       "    }\n",
       "</style>\n",
       "<table border=\"1\" class=\"dataframe\">\n",
       "  <thead>\n",
       "    <tr style=\"text-align: right;\">\n",
       "      <th></th>\n",
       "      <th>tên</th>\n",
       "      <th>giá_niêm_yết</th>\n",
       "      <th>category</th>\n",
       "      <th>ngày_tạo</th>\n",
       "    </tr>\n",
       "  </thead>\n",
       "  <tbody>\n",
       "    <tr>\n",
       "      <th>0</th>\n",
       "      <td>Figure Lingsha HSR</td>\n",
       "      <td>1200000</td>\n",
       "      <td>Figure</td>\n",
       "      <td>2025-01-12</td>\n",
       "    </tr>\n",
       "    <tr>\n",
       "      <th>1</th>\n",
       "      <td>Mô hình Miku Nakano</td>\n",
       "      <td>2500000</td>\n",
       "      <td>Figure</td>\n",
       "      <td>2025-02-08</td>\n",
       "    </tr>\n",
       "    <tr>\n",
       "      <th>2</th>\n",
       "      <td>Áo hoodie Attack on Titan</td>\n",
       "      <td>450000</td>\n",
       "      <td>Clothing</td>\n",
       "      <td>2025-02-25</td>\n",
       "    </tr>\n",
       "    <tr>\n",
       "      <th>3</th>\n",
       "      <td>Poster Demon Slayer</td>\n",
       "      <td>150000</td>\n",
       "      <td>Poster</td>\n",
       "      <td>2025-03-15</td>\n",
       "    </tr>\n",
       "  </tbody>\n",
       "</table>\n",
       "</div>"
      ],
      "text/plain": [
       "                         tên  giá_niêm_yết  category    ngày_tạo\n",
       "0         Figure Lingsha HSR       1200000    Figure  2025-01-12\n",
       "1        Mô hình Miku Nakano       2500000    Figure  2025-02-08\n",
       "2  Áo hoodie Attack on Titan        450000  Clothing  2025-02-25\n",
       "3        Poster Demon Slayer        150000    Poster  2025-03-15"
      ]
     },
     "execution_count": 45,
     "metadata": {},
     "output_type": "execute_result"
    }
   ],
   "source": [
    "#Lọc có điều kiện\n",
    "df.loc[df[\"giá_niêm_yết\"] >80000, \"tên\": \"ngày_tạo\"]\n",
    "# Lấy dòng nào có giá bán > 80k\n",
    "# Cột 0 (tức là tên) -> \"ngày tạo\""
   ]
  }
 ],
 "metadata": {
  "kernelspec": {
   "display_name": "Python 3",
   "language": "python",
   "name": "python3"
  },
  "language_info": {
   "codemirror_mode": {
    "name": "ipython",
    "version": 3
   },
   "file_extension": ".py",
   "mimetype": "text/x-python",
   "name": "python",
   "nbconvert_exporter": "python",
   "pygments_lexer": "ipython3",
   "version": "3.11.9"
  }
 },
 "nbformat": 4,
 "nbformat_minor": 2
}
