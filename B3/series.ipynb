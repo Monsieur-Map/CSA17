{
 "cells": [
  {
   "cell_type": "markdown",
   "metadata": {},
   "source": [
    "Tạo series\n",
    "- Cách 1: Tạo bằng list + index\n",
    "- Cách 2: Tạo bằng dict (nếu muốn thay đổi index)"
   ]
  },
  {
   "cell_type": "code",
   "execution_count": 16,
   "metadata": {},
   "outputs": [
    {
     "data": {
      "text/plain": [
       "{'Hoa': 39,\n",
       " 'Phượng': 38,\n",
       " 'Nam': 48,\n",
       " 'Thu': 40,\n",
       " 'Hải': 42,\n",
       " 'Vũ': 40,\n",
       " 'Linh': 39,\n",
       " 'Bảo': 100,\n",
       " 'Nhân': 41}"
      ]
     },
     "execution_count": 16,
     "metadata": {},
     "output_type": "execute_result"
    }
   ],
   "source": [
    "import pandas as pd\n",
    "data = {\n",
    "     \"Hoa\": 39,\n",
    "    \"Phượng\": 38,\n",
    "    \"Nam\": 48,\n",
    "    \"Thu\": 40,\n",
    "    \"Hải\": 42,\n",
    "    \"Vũ\": 40,\n",
    "    \"Linh\": 39,\n",
    "    \"Bảo\": 100,\n",
    "    \"Nhân\": 41\n",
    "}\n",
    "data # type: dict"
   ]
  },
  {
   "cell_type": "code",
   "execution_count": 23,
   "metadata": {},
   "outputs": [
    {
     "data": {
      "text/plain": [
       "Hoa        39\n",
       "Phượng     38\n",
       "Nam        48\n",
       "Thu        40\n",
       "Hải        42\n",
       "Vũ         40\n",
       "Linh       39\n",
       "Bảo       100\n",
       "Nhân       41\n",
       "dtype: int64"
      ]
     },
     "execution_count": 23,
     "metadata": {},
     "output_type": "execute_result"
    }
   ],
   "source": [
    "# Lưu index và trong key và lưu key vào trong list\n",
    "weights = data.values()\n",
    "names = data.keys()\n",
    "weights, names\n",
    "\n",
    "series1 = pd.Series(data=weights, index=names)\n",
    "series1"
   ]
  },
  {
   "cell_type": "code",
   "execution_count": 21,
   "metadata": {},
   "outputs": [
    {
     "data": {
      "text/plain": [
       "count      9.000000\n",
       "mean      47.444444\n",
       "std       19.925556\n",
       "min       38.000000\n",
       "25%       39.000000\n",
       "50%       40.000000\n",
       "75%       42.000000\n",
       "max      100.000000\n",
       "dtype: float64"
      ]
     },
     "execution_count": 21,
     "metadata": {},
     "output_type": "execute_result"
    }
   ],
   "source": [
    "series2 = pd.Series(data)\n",
    "series2.describe() # type: pd.Series"
   ]
  },
  {
   "cell_type": "markdown",
   "metadata": {},
   "source": [
    "# mean - trung bình cộng\n",
    "- Dễ bị ảnh hưởng bởi `giá trị ngoại lai (outlier, bé quá hoặc lớn quá)`"
   ]
  },
  {
   "cell_type": "code",
   "execution_count": 20,
   "metadata": {},
   "outputs": [
    {
     "data": {
      "text/plain": [
       "np.float64(47.22222222222222)"
      ]
     },
     "execution_count": 20,
     "metadata": {},
     "output_type": "execute_result"
    }
   ],
   "source": [
    "series2.mean() #type: float"
   ]
  },
  {
   "cell_type": "markdown",
   "metadata": {},
   "source": [
    "# median - trung vị\n",
    "- Cách tính: số ở giữa của danh sách đã **được sắp xếp**\n",
    "- Nếu danh sách có n phần tử (với n là **số chẵn**) -> trung bình cộng của 2 số ở giữa\n",
    "- Nếu danh sách có n phần tử (với n là **số lẻ**) -> lấy số ở giữa của dãy\n",
    "- `Ít bị ảnh hưởng bởi outlier hơn mean`"
   ]
  },
  {
   "cell_type": "code",
   "execution_count": 19,
   "metadata": {},
   "outputs": [
    {
     "data": {
      "text/plain": [
       "np.float64(40.0)"
      ]
     },
     "execution_count": 19,
     "metadata": {},
     "output_type": "execute_result"
    }
   ],
   "source": [
    "series2.median() #type: float"
   ]
  },
  {
   "cell_type": "markdown",
   "metadata": {},
   "source": [
    "# mode - giá trị xuất hiện nhiều nhất\n",
    "- Giá trị nào xuất hiện với tần xuất cao nhất\n",
    "- **Có thể có nhiều giá trị phổ biến**\n",
    "- `Lấy giá trị phổ biến nhất trong dữ liệu` (kiểu 2 người 45kg, 2 người 40 kg thì nó sẽ trả về cả 40 và 45)"
   ]
  },
  {
   "cell_type": "code",
   "execution_count": 24,
   "metadata": {},
   "outputs": [
    {
     "data": {
      "text/plain": [
       "0    39\n",
       "1    40\n",
       "dtype: int64"
      ]
     },
     "execution_count": 24,
     "metadata": {},
     "output_type": "execute_result"
    }
   ],
   "source": [
    "series2.mode() #type: pandas.Series"
   ]
  }
 ],
 "metadata": {
  "kernelspec": {
   "display_name": "Python 3",
   "language": "python",
   "name": "python3"
  },
  "language_info": {
   "codemirror_mode": {
    "name": "ipython",
    "version": 3
   },
   "file_extension": ".py",
   "mimetype": "text/x-python",
   "name": "python",
   "nbconvert_exporter": "python",
   "pygments_lexer": "ipython3",
   "version": "3.11.9"
  }
 },
 "nbformat": 4,
 "nbformat_minor": 2
}
