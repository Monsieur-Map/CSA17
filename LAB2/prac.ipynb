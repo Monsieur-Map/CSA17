{
 "cells": [
  {
   "cell_type": "markdown",
   "metadata": {},
   "source": [
    "> Yêu cầu 1: Tạo một danh sách chứa các số từ 1 đến 100"
   ]
  },
  {
   "cell_type": "code",
   "execution_count": 11,
   "metadata": {},
   "outputs": [
    {
     "data": {
      "text/plain": [
       "[17,\n",
       " 40,\n",
       " 1,\n",
       " 49,\n",
       " 50,\n",
       " 77,\n",
       " 63,\n",
       " 24,\n",
       " 97,\n",
       " 44,\n",
       " 35,\n",
       " 37,\n",
       " 8,\n",
       " 63,\n",
       " 25,\n",
       " 4,\n",
       " 45,\n",
       " 33,\n",
       " 99,\n",
       " 76,\n",
       " 40,\n",
       " 9,\n",
       " 27,\n",
       " 78,\n",
       " 69,\n",
       " 59,\n",
       " 65,\n",
       " 71,\n",
       " 85,\n",
       " 79,\n",
       " 67,\n",
       " 79,\n",
       " 4,\n",
       " 82,\n",
       " 7,\n",
       " 31,\n",
       " 77,\n",
       " 20,\n",
       " 40,\n",
       " 32,\n",
       " 54,\n",
       " 46,\n",
       " 97,\n",
       " 100,\n",
       " 31,\n",
       " 52,\n",
       " 87,\n",
       " 4,\n",
       " 30,\n",
       " 8,\n",
       " 33,\n",
       " 6,\n",
       " 13,\n",
       " 21,\n",
       " 75,\n",
       " 84,\n",
       " 16,\n",
       " 51,\n",
       " 55,\n",
       " 10,\n",
       " 23,\n",
       " 90,\n",
       " 43,\n",
       " 43,\n",
       " 1,\n",
       " 59,\n",
       " 28,\n",
       " 83,\n",
       " 18,\n",
       " 94,\n",
       " 27,\n",
       " 41,\n",
       " 48,\n",
       " 83,\n",
       " 47,\n",
       " 21,\n",
       " 100,\n",
       " 63,\n",
       " 2,\n",
       " 11,\n",
       " 14,\n",
       " 14,\n",
       " 63,\n",
       " 8,\n",
       " 86,\n",
       " 69,\n",
       " 49,\n",
       " 58,\n",
       " 64,\n",
       " 37,\n",
       " 99,\n",
       " 42,\n",
       " 86,\n",
       " 64,\n",
       " 42,\n",
       " 87,\n",
       " 21,\n",
       " 54,\n",
       " 72,\n",
       " 21]"
      ]
     },
     "execution_count": 11,
     "metadata": {},
     "output_type": "execute_result"
    }
   ],
   "source": [
    "import random\n",
    "ds1 = list(range(1,101))\n",
    "ds2 = [random.randint(1,100)for _ in range(100)]\n",
    "ds2"
   ]
  },
  {
   "cell_type": "markdown",
   "metadata": {},
   "source": [
    "> Yêu cầu 2: Viết hàm tạo một danh sách mới chỉ các số lẻ từ danh sách ban đầu"
   ]
  },
  {
   "cell_type": "code",
   "execution_count": 12,
   "metadata": {},
   "outputs": [
    {
     "data": {
      "text/plain": [
       "[1,\n",
       " 3,\n",
       " 5,\n",
       " 7,\n",
       " 9,\n",
       " 11,\n",
       " 13,\n",
       " 15,\n",
       " 17,\n",
       " 19,\n",
       " 21,\n",
       " 23,\n",
       " 25,\n",
       " 27,\n",
       " 29,\n",
       " 31,\n",
       " 33,\n",
       " 35,\n",
       " 37,\n",
       " 39,\n",
       " 41,\n",
       " 43,\n",
       " 45,\n",
       " 47,\n",
       " 49,\n",
       " 51,\n",
       " 53,\n",
       " 55,\n",
       " 57,\n",
       " 59,\n",
       " 61,\n",
       " 63,\n",
       " 65,\n",
       " 67,\n",
       " 69,\n",
       " 71,\n",
       " 73,\n",
       " 75,\n",
       " 77,\n",
       " 79,\n",
       " 81,\n",
       " 83,\n",
       " 85,\n",
       " 87,\n",
       " 89,\n",
       " 91,\n",
       " 93,\n",
       " 95,\n",
       " 97,\n",
       " 99]"
      ]
     },
     "execution_count": 12,
     "metadata": {},
     "output_type": "execute_result"
    }
   ],
   "source": [
    "def loc_so_le(ds):\n",
    "    return [i for i in ds if i % 2 != 0]\n",
    "loc_so_le(ds1)"
   ]
  },
  {
   "cell_type": "markdown",
   "metadata": {},
   "source": [
    "> Yêu cầu 3: Tạo một từ điển, trong đó:\n",
    "- Mỗi kháo là một số từ 1 đến 10\n",
    "- Giá trị là bình phương của khoá"
   ]
  },
  {
   "cell_type": "code",
   "execution_count": 13,
   "metadata": {},
   "outputs": [
    {
     "data": {
      "text/plain": [
       "{17: 289,\n",
       " 1: 1,\n",
       " 49: 2401,\n",
       " 77: 5929,\n",
       " 63: 3969,\n",
       " 97: 9409,\n",
       " 35: 1225,\n",
       " 37: 1369,\n",
       " 25: 625,\n",
       " 45: 2025,\n",
       " 33: 1089,\n",
       " 99: 9801,\n",
       " 9: 81,\n",
       " 27: 729,\n",
       " 69: 4761,\n",
       " 59: 3481,\n",
       " 65: 4225,\n",
       " 71: 5041,\n",
       " 85: 7225,\n",
       " 79: 6241,\n",
       " 67: 4489,\n",
       " 7: 49,\n",
       " 31: 961,\n",
       " 87: 7569,\n",
       " 13: 169,\n",
       " 21: 441,\n",
       " 75: 5625,\n",
       " 51: 2601,\n",
       " 55: 3025,\n",
       " 23: 529,\n",
       " 43: 1849,\n",
       " 83: 6889,\n",
       " 41: 1681,\n",
       " 47: 2209,\n",
       " 11: 121}"
      ]
     },
     "execution_count": 13,
     "metadata": {},
     "output_type": "execute_result"
    }
   ],
   "source": [
    "tu_dien = {i: i**2 for i in loc_so_le(ds2)}\n",
    "tu_dien"
   ]
  }
 ],
 "metadata": {
  "kernelspec": {
   "display_name": "Python 3",
   "language": "python",
   "name": "python3"
  },
  "language_info": {
   "codemirror_mode": {
    "name": "ipython",
    "version": 3
   },
   "file_extension": ".py",
   "mimetype": "text/x-python",
   "name": "python",
   "nbconvert_exporter": "python",
   "pygments_lexer": "ipython3",
   "version": "3.11.9"
  }
 },
 "nbformat": 4,
 "nbformat_minor": 2
}
